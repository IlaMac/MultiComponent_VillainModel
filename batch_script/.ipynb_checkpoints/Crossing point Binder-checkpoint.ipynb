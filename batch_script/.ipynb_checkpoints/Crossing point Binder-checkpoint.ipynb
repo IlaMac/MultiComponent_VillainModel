{
 "cells": [
  {
   "cell_type": "code",
   "execution_count": 44,
   "metadata": {
    "scrolled": false
   },
   "outputs": [
    {
     "name": "stdout",
     "output_type": "stream",
     "text": [
      "8 41 [14 15 16 17 18 19 20 21 22 23 24 25 26 27 28 29 30 31 32 33 34 35 36 37\n",
      " 38 39 40 41 42 43 44 45 46 47 48 49 50 51 52 53 54 55 56 57 58 59 60 61\n",
      " 62 63]\n",
      "10 33 [15 16 17 18 19 20 21 22 23 24 25 26 27 28 29 30 31 32 33 34 35 36 37 38\n",
      " 39 40 41 42 43 44 45 46 47 48 49 50 51 52 53 54 55 56 57 58 59 60 61 62\n",
      " 63]\n",
      "12 28 [15 16 17 18 19 20 21 22 23 24 25 26 27 28 29 30 31 32 33 34 35 36 37 38\n",
      " 39 40 41 42 43 44 45 46 47 48 49 50 51 52 53 54 55 56 57 58 59 60 61 62\n",
      " 63]\n",
      "16 24 [16 17 18 19 20 21 22 23 24 25 26 27 28 29 30 31 32 33 34 35 36 37 38 39\n",
      " 40 41 42 43 44 45 46 47 48 49 50 51 52 53 54 55 56 57 58 59 60 61 62 63]\n",
      "24 20 [16 17 18 19 20 21 22 23 24 25 26 27 28 29 30 31 32 33 34 35 36 37 38 39\n",
      " 40 41 42 43 44 45 46 47 48 49 50 51 52 53 54 55 56 57 58 59 60 61 62 63]\n",
      "32 18 [16 17 18 19 20 21 22 23 24 25 26 27 28 29 30 31 32 33 34 35 36 37 38 39\n",
      " 40 41 42 43 44 45 46 47 48 49 50 51 52 53 54 55 56 57 58 59 60 61 62 63]\n",
      "14 41\n",
      "[ 0  1  2  3  4  5  6  7  8  9 10 11 12 13 14 15 16 17 18 19 20 21 22 23\n",
      " 24 25 26]\n",
      "[ 0  1  2  3  4  5  6  7  8  9 10 11 12 13 14 15 16 17 18 19 20 21 22 23\n",
      " 24 25 26]\n",
      "[ 0  1  2  3  4  5  6  7  8  9 10 11 12 13 14 15 16 17 18 19 20 21 22 23\n",
      " 24 25 26]\n",
      "[ 0  1  2  3  4  5  6  7  8  9 10 11 12 13 14 15 16 17 18 19 20 21 22 23\n",
      " 24 25 26]\n",
      "[ 0  1  2  3  4  5  6  7  8  9 10 11 12 13 14 15 16 17 18 19 20 21 22 23\n",
      " 24 25 26]\n",
      "[ 0  1  2  3  4  5  6  7  8  9 10 11 12 13 14 15 16 17 18 19 20 21 22 23\n",
      " 24 25 26]\n"
     ]
    },
    {
     "name": "stderr",
     "output_type": "stream",
     "text": [
      "/Users/ilaria/miniconda3/lib/python3.7/site-packages/ipykernel_launcher.py:130: RuntimeWarning: invalid value encountered in double_scalars\n"
     ]
    },
    {
     "ename": "IndexError",
     "evalue": "index 3 is out of bounds for axis 2 with size 3",
     "output_type": "error",
     "traceback": [
      "\u001b[0;31m---------------------------------------------------------------------------\u001b[0m",
      "\u001b[0;31mIndexError\u001b[0m                                Traceback (most recent call last)",
      "\u001b[0;32m<ipython-input-44-18fc31446afe>\u001b[0m in \u001b[0;36m<module>\u001b[0;34m\u001b[0m\n\u001b[1;32m    124\u001b[0m                 \u001b[0mm1\u001b[0m\u001b[0;34m=\u001b[0m \u001b[0;34m(\u001b[0m\u001b[0my1\u001b[0m\u001b[0;34m-\u001b[0m\u001b[0my2\u001b[0m\u001b[0;34m)\u001b[0m\u001b[0;34m/\u001b[0m\u001b[0;34m(\u001b[0m\u001b[0mx1\u001b[0m\u001b[0;34m-\u001b[0m\u001b[0mx2\u001b[0m\u001b[0;34m)\u001b[0m\u001b[0;34m\u001b[0m\u001b[0;34m\u001b[0m\u001b[0m\n\u001b[1;32m    125\u001b[0m                 \u001b[0mq1\u001b[0m\u001b[0;34m=\u001b[0m \u001b[0;34m-\u001b[0m\u001b[0mx2\u001b[0m\u001b[0;34m*\u001b[0m\u001b[0mm1\u001b[0m\u001b[0;34m+\u001b[0m\u001b[0my2\u001b[0m\u001b[0;34m\u001b[0m\u001b[0;34m\u001b[0m\u001b[0m\n\u001b[0;32m--> 126\u001b[0;31m                 \u001b[0my1\u001b[0m\u001b[0;34m=\u001b[0m \u001b[0mJs_cross\u001b[0m\u001b[0;34m[\u001b[0m\u001b[0mn\u001b[0m\u001b[0;34m,\u001b[0m\u001b[0mindex1\u001b[0m\u001b[0;34m,\u001b[0m \u001b[0ml2\u001b[0m\u001b[0;34m]\u001b[0m\u001b[0;34m\u001b[0m\u001b[0;34m\u001b[0m\u001b[0m\n\u001b[0m\u001b[1;32m    127\u001b[0m                 \u001b[0my2\u001b[0m\u001b[0;34m=\u001b[0m\u001b[0mJs_cross\u001b[0m\u001b[0;34m[\u001b[0m\u001b[0mn\u001b[0m\u001b[0;34m,\u001b[0m\u001b[0mindex2\u001b[0m\u001b[0;34m,\u001b[0m \u001b[0ml2\u001b[0m\u001b[0;34m]\u001b[0m\u001b[0;34m\u001b[0m\u001b[0;34m\u001b[0m\u001b[0m\n\u001b[1;32m    128\u001b[0m                 \u001b[0mm2\u001b[0m\u001b[0;34m=\u001b[0m \u001b[0;34m(\u001b[0m\u001b[0my1\u001b[0m\u001b[0;34m-\u001b[0m\u001b[0my2\u001b[0m\u001b[0;34m)\u001b[0m\u001b[0;34m/\u001b[0m\u001b[0;34m(\u001b[0m\u001b[0mx1\u001b[0m\u001b[0;34m-\u001b[0m\u001b[0mx2\u001b[0m\u001b[0;34m)\u001b[0m\u001b[0;34m\u001b[0m\u001b[0;34m\u001b[0m\u001b[0m\n",
      "\u001b[0;31mIndexError\u001b[0m: index 3 is out of bounds for axis 2 with size 3"
     ]
    },
    {
     "data": {
      "image/png": "[encoded data removed]",
      "text/plain": [
       "<Figure size 432x432 with 1 Axes>"
      ]
     },
     "metadata": {
      "needs_background": "light"
     },
     "output_type": "display_data"
    }
   ],
   "source": [
    "import numpy as np\n",
    "import matplotlib.pyplot as plt\n",
    "import matplotlib.colors as mcolors\n",
    "import sys\n",
    "import os\n",
    "import math\n",
    "from statsmodels.graphics.tsaplots import plot_acf\n",
    "import statsmodels.api as sm\n",
    "from statsmodels.tsa.stattools import acf\n",
    "import scipy.integrate as integrate\n",
    "import random\n",
    "from scipy.optimize import fsolve\n",
    "from scipy.optimize import bisect\n",
    "from scipy.optimize import curve_fit\n",
    "\n",
    "plt.rc('text',usetex=True)\n",
    "plt.rc('text.latex', preamble=r'\\usepackage{bm}')\n",
    "plt.rcParams['font.family'] = 'Times New Roman'\n",
    "plt.rcParams['font.serif'] = 'Computer Modern'\n",
    "plt.rcParams['axes.linewidth']  = 3.0\n",
    "plt.rcParams['axes.labelsize']  = 20\n",
    "plt.rcParams.update({'font.size': 22})\n",
    "plt.rcParams['xtick.labelsize'] = 25\n",
    "plt.rcParams['ytick.labelsize'] = 25\n",
    "plt.rcParams['xtick.major.size'] = 4\n",
    "plt.rcParams['ytick.major.size'] = 4\n",
    "plt.rcParams['xtick.minor.size'] = 3\n",
    "plt.rcParams['ytick.minor.size'] = 3\n",
    "plt.rcParams['legend.fontsize']  = 22\n",
    "plt.rcParams['legend.frameon']  = True\n",
    "plt.rcParams[\"legend.fancybox\"] = True\n",
    "plt.rcParams[\"legend.shadow\"] = True\n",
    "plt.rcParams[\"legend.framealpha\"] = 1\n",
    "plt.rcParams[\"axes.facecolor\"] = 'white'\n",
    "plt.rcParams[\"axes.edgecolor\"] = 'black'\n",
    "\n",
    "plt.rcParams['figure.figsize'] = 8, 8\n",
    "\n",
    "plt.rcParams['xtick.major.width'] = 1\n",
    "plt.rcParams['ytick.major.width'] = 1\n",
    "plt.rcParams['xtick.minor.width'] = 0\n",
    "plt.rcParams['ytick.minor.width'] = 0\n",
    "bbox_props = dict(boxstyle=\"round\", fc=\"w\", ec=\"0.5\", alpha=0.9)\n",
    "\n",
    "bare_Tc=[]\n",
    "bare_Tc_err=[]\n",
    "nu_list=[]\n",
    "\n",
    "e=0\n",
    "nu=0\n",
    "h=1\n",
    "rho=1\n",
    "eta1=0\n",
    "eta2=1\n",
    "blow=0.3\n",
    "bhigh=0.45\n",
    "nMAX=30\n",
    "nbeta=64\n",
    "\n",
    "L=np.array([8, 10, 12, 16, 24, 32])\n",
    "\n",
    "BASEDIR=(\"/Users/ilaria/Desktop/MultiComponent_VillainModel/Output_Villain_2C/Model_Sym/e_%s/nu_%s/h_%s\" %(e, nu, h))\n",
    "folder_fig=(\"/Users/ilaria/Desktop/MultiComponent_VillainModel/Output_Villain_2C/Model_Sym/Figures\")\n",
    "\n",
    "\n",
    "color=iter(plt.cm.rainbow(np.linspace(0,1,len(L)+1)))\n",
    "c_m=next(color)\n",
    "\n",
    "N_dataset=100\n",
    "betac_cross=np.zeros((N_dataset, len(L)-1))\n",
    "\n",
    "\n",
    "fig, ax1 = plt.subplots(nrows=1, ncols=1, sharex=True, figsize=(6,6))\n",
    "#ax1.set_ylim((-1,1))\n",
    "ax1.set_xlim((0.33,0.35))\n",
    "\n",
    "nbeta_new=[]\n",
    "index1_list=[]\n",
    "index2_list=[]\n",
    "for l in range(len(L)):\n",
    "    HOMEDIR=(\"%s/L%s_rho%s_eta1%s_eta2%s_e%s_h%s_nu%s_bmin%s_bmax%s_nMAX%s_init0\" %(BASEDIR, L[l], rho, eta1, eta2, e, h, nu, blow, bhigh, nMAX))\n",
    "    data_U=np.loadtxt(\"%s/Binder_cumulant.txt\" %HOMEDIR)\n",
    "    beta= data_U[0]\n",
    "    U= data_U[1]\n",
    "    err_U= data_U[2]\n",
    "    U_all=np.loadtxt(\"%s/Binder_alln.txt\" %HOMEDIR)\n",
    "    #cut U_all\n",
    "    index1=np.where(U<0.9)[0]\n",
    "    index2=np.where((U+err_U)>0.34)[0][-1]\n",
    "    print(L[l], index2, index1)\n",
    "    nbeta_new.append(len(index1))\n",
    "    index2_list.append(index2)\n",
    "    index1_list.append(index1[0])\n",
    "\n",
    "nbeta_cut=min(nbeta_new)\n",
    "start=min(index1_list)\n",
    "end=max(index2_list)\n",
    "print(start, end)\n",
    "nbeta_cut=end-start\n",
    "U_cross=np.zeros((N_dataset, nbeta_cut, len(L)))\n",
    "\n",
    "for l in range(len(L)):\n",
    "    \n",
    "    for n in range(N_dataset):\n",
    "        U_cross[n, :, l]=U_all[n][start:end]\n",
    "        ax1.plot(beta[start:end], U_cross[n,:,l], \".-\")\n",
    "    #ax1.plot(beta, Js_cross[18,:,l], \".-\")\n",
    "\n",
    "for n in range(N_dataset):       \n",
    "    for l1 in range(len(L)):\n",
    "        for l2 in range(l1+1, len(L)):\n",
    "            #print(beta[np.where(Js_cross[n,:, l1]>=Js_cross[n,:, l2])[0][-1]])\n",
    "            condition=np.where(U_cross[n,:, l1]>=(U_cross[n,:, l2]))[0]\n",
    "            print(condition)\n",
    "\n",
    "            if(condition.size>0):\n",
    "                print(condition)\n",
    "                index1=condition[-1]\n",
    "                index2=index1+1\n",
    "                x1= beta[index1]\n",
    "                y1= Js_cross[n,index1, l1]\n",
    "                x2= beta[index2] \n",
    "                y2=Js_cross[n,index2, l1]\n",
    "                m1= (y1-y2)/(x1-x2)\n",
    "                q1= -x2*m1+y2\n",
    "                y1= Js_cross[n,index1, l2]\n",
    "                y2=Js_cross[n,index2, l2]\n",
    "                m2= (y1-y2)/(x1-x2)\n",
    "                q2= -x2*m2+y2\n",
    "                betac_cross[n,l2-1]=(q2-q1)/(m1-m2)\n",
    "            else:\n",
    "               print(\"nada\")\n",
    "\n",
    "betac_finitesize=[]\n",
    "err_betac_finitesize=[]\n",
    "\n",
    "for l2 in range(1, len(L)):\n",
    "    print(L[l2-1], L[l2], np.mean(betac_cross[:,l2-1]))\n",
    "    ax1.axvline(x=np.mean(betac_cross[:,l2-1]), ls=\"--\")\n",
    "    betac_finitesize.append(np.mean(betac_cross[:,l2-1]))\n",
    "    err_betac_finitesize.append(np.sqrt(N_dataset-1)*np.std(betac_cross[:,l2-1]))\n",
    "\n",
    "nu_list.append(nu)\n",
    "bare_Tc.append(np.mean(betac_finitesize))\n",
    "bare_Tc_err.append(np.mean( err_betac_finitesize) )\n",
    "print(bare_Tc, bare_Tc_err)\n",
    "\n",
    "fig2, ax2 = plt.subplots(nrows=1, ncols=1, sharex=True, figsize=(6,6))\n",
    " \n",
    "ax2.set_xticks(np.arange(0, len(L)-1, step=1), ('$L_1, L_2$', '$L_2, L_3$'))\n",
    "ax2.set_ylabel(\"$T_c(Z_2)$\")\n",
    "ax2.set_xlabel(\"$L_{i}, L_{i+1}$\")\n",
    "pair_l=[]\n",
    "\n",
    "pair_l=np.arange(0,len(L)-1, 1 )\n",
    "ax2.errorbar(pair_l, np.asarray(betac_finitesize), yerr=np.asarray(err_betac_finitesize), fmt=\"-\" )"
   ]
  },
  {
   "cell_type": "code",
   "execution_count": 7,
   "metadata": {},
   "outputs": [
    {
     "name": "stdout",
     "output_type": "stream",
     "text": [
      "[0 1]\n"
     ]
    },
    {
     "data": {
      "text/plain": [
       "<ErrorbarContainer object of 3 artists>"
      ]
     },
     "execution_count": 7,
     "metadata": {},
     "output_type": "execute_result"
    },
    {
     "data": {
      "image/png": "[encoded data removed]",
      "text/plain": [
       "<Figure size 576x576 with 1 Axes>"
      ]
     },
     "metadata": {
      "needs_background": "light"
     },
     "output_type": "display_data"
    }
   ],
   "source": [
    "betac_finitesize=[]\n",
    "err_betac_finitesize=[]\n",
    "\n",
    "pair_l=[]\n",
    "for l in range(len(L)-1):\n",
    "    betac_finitesize.append(np.mean(betac_cross[:,l]))\n",
    "    err_betac_finitesize.append( np.std(betac_cross[:,l])/np.sqrt(100-1))\n",
    "\n",
    "pair_l=np.arange(0,len(L)-1, 1 )\n",
    "print(pair_l)\n",
    "plt.errorbar(pair_l, np.asarray(betac_finitesize), yerr=np.asarray(err_betac_finitesize), fmt=\"-\" )"
   ]
  },
  {
   "cell_type": "code",
   "execution_count": null,
   "metadata": {},
   "outputs": [],
   "source": []
  }
 ],
 "metadata": {
  "kernelspec": {
   "display_name": "Python 3",
   "language": "python",
   "name": "python3"
  },
  "language_info": {
   "codemirror_mode": {
    "name": "ipython",
    "version": 3
   },
   "file_extension": ".py",
   "mimetype": "text/x-python",
   "name": "python",
   "nbconvert_exporter": "python",
   "pygments_lexer": "ipython3",
   "version": "3.7.4"
  }
 },
 "nbformat": 4,
 "nbformat_minor": 4
}
